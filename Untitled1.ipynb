{
 "cells": [
  {
   "cell_type": "code",
   "execution_count": null,
   "metadata": {},
   "outputs": [],
   "source": [
    "import pandas as pd"
   ]
  },
  {
   "cell_type": "code",
   "execution_count": null,
   "metadata": {},
   "outputs": [],
   "source": [
    "PEEOHI_df = pd.read_csv(\"MEPS_data/PercentPSEatEofferHI.csv\")\n",
    "PEEOHI_id = \"Percent of Employees in Establishments Offering Health Insurance\"\n",
    "\n",
    "PEEHIAEPSEOHI_df = pd.read_csv(\"MEPS_data/PercentPSEEligible4HIatEstthatOfferHI.csv\")\n",
    "PEEHIAEPSEOHI_id = \"Percent of Employees that are Eligible for Health Insurance Among Employees of Private-Sector Establishments Offering Health Insurance\"\n",
    "\n",
    "PEEHIAEPSEEHI_df = pd.read_csv(\"MEPS_data/PercentPSEEligible4HIEnrolledinHIatEstofferHI.csv\")\n",
    "PEEHIAEPSEEHI_id = \"Percent of Employees that are Enrolled in Health Insurance Among Employees of Private-Sector Establishments Eligible for Health Insurance\"\n",
    "\n",
    "PEEHIAEPSEOHI_df = pd.read_csv(\"MEPS_data/PercentPSEEnrolledHIatEstofferHI.csv\")\n",
    "PEEHIAEPSEOHI_id = \"Percent of Employees that are Enrolled in Health Insurance Among Employees of Private-Sector Establishments Offering Health Insurance\"\n",
    "\n",
    "PEESIPEOHI_df = pd.read_csv(\"MEPS_data/PercentofEnrolleesEnrolledinSelfInsuranceatEstOHI.csv\"\n",
    "PEESIPEOHI_id = \"P\"                            "
   ]
  }
 ],
 "metadata": {
  "kernelspec": {
   "display_name": "Python 3",
   "language": "python",
   "name": "python3"
  },
  "language_info": {
   "codemirror_mode": {
    "name": "ipython",
    "version": 3
   },
   "file_extension": ".py",
   "mimetype": "text/x-python",
   "name": "python",
   "nbconvert_exporter": "python",
   "pygments_lexer": "ipython3",
   "version": "3.8.3"
  }
 },
 "nbformat": 4,
 "nbformat_minor": 4
}
