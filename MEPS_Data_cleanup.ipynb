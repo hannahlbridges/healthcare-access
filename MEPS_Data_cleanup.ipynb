{
 "cells": [
  {
   "cell_type": "code",
   "execution_count": null,
   "metadata": {},
   "outputs": [],
   "source": [
    "import pandas as pd"
   ]
  },
  {
   "cell_type": "code",
   "execution_count": null,
   "metadata": {},
   "outputs": [],
   "source": [
    "PEEOHI_df = pd.read_csv(\"MEPS_data/PercentPSEatEofferHI.csv\")\n",
    "PEEOHI_id = \"Percent of Employees in Establishments Offering Health Insurance\"\n",
    "\n",
    "PEEHIAEPSEOHI_df = pd.read_csv(\"MEPS_data/PercentPSEEligible4HIatEstthatOfferHI.csv\")\n",
    "PEEHIAEPSEOHI_id = \"Percent of Employees that are Eligible for Health Insurance Among Employees of Private-Sector Establishments Offering Health Insurance\"\n",
    "\n",
    "PEEHIAEPSEEHI_df = pd.read_csv(\"MEPS_data/PercentPSEEligible4HIEnrolledinHIatEstofferHI.csv\")\n",
    "PEEHIAEPSEEHI_id = \"Percent of Employees that are Enrolled in Health Insurance Among Employees of Private-Sector Establishments Eligible for Health Insurance\"\n",
    "\n",
    "PEEHIAEPSEOHI_df = pd.read_csv(\"MEPS_data/PercentPSEEnrolledHIatEstofferHI.csv\")\n",
    "PEEHIAEPSEOHI_id = \"Percent of Employees that are Enrolled in Health Insurance Among Employees of Private-Sector Establishments Offering Health Insurance\"\n",
    "\n",
    "PEESIPEOHI_df = pd.read_csv(\"MEPS_data/PercentofEnrolleesEnrolledinSelfInsuranceatEstOHI.csv\"\n",
    "PEESIPEOHI_id = \"Percent of Enrollees that are Enrolled in Self-Insurance Plans at Establishments that Offer Health Insurance\"\n",
    "                            "
   ]
  },
  {
   "cell_type": "code",
   "execution_count": null,
   "metadata": {},
   "outputs": [],
   "source": [
    "PEEOHI_df.head"
   ]
  },
  {
   "cell_type": "code",
   "execution_count": null,
   "metadata": {},
   "outputs": [],
   "source": []
  }
 ],
 "metadata": {
  "kernelspec": {
   "display_name": "Python 3",
   "language": "python",
   "name": "python3"
  },
  "language_info": {
   "codemirror_mode": {
    "name": "ipython",
    "version": 3
   },
   "file_extension": ".py",
   "mimetype": "text/x-python",
   "name": "python",
   "nbconvert_exporter": "python",
   "pygments_lexer": "ipython3",
   "version": "3.8.3"
  }
 },
 "nbformat": 4,
 "nbformat_minor": 4
}
